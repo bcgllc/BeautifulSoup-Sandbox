{
 "cells": [
  {
   "cell_type": "code",
   "execution_count": 1,
   "metadata": {},
   "outputs": [],
   "source": [
    "# FoxNews.com Features & Faces"
   ]
  },
  {
   "cell_type": "code",
   "execution_count": 2,
   "metadata": {},
   "outputs": [],
   "source": [
    "from bs4 import BeautifulSoup\n",
    "import requests\n",
    "import json\n",
    "import re"
   ]
  },
  {
   "cell_type": "code",
   "execution_count": 9,
   "metadata": {},
   "outputs": [],
   "source": [
    "request = requests.get('https://www.foxnews.com/')\n",
    "data = request.text"
   ]
  },
  {
   "cell_type": "code",
   "execution_count": 10,
   "metadata": {},
   "outputs": [],
   "source": [
    "soup = BeautifulSoup(data, 'html.parser')"
   ]
  },
  {
   "cell_type": "code",
   "execution_count": 11,
   "metadata": {},
   "outputs": [],
   "source": [
    "features_faces = soup.find('section', {'class': 'collection-features-faces'})"
   ]
  },
  {
   "cell_type": "code",
   "execution_count": 13,
   "metadata": {
    "collapsed": true
   },
   "outputs": [
    {
     "name": "stdout",
     "output_type": "stream",
     "text": [
      "[<article class=\"article-ct\"><a href=\"https://www.foxnews.com/food-drink/nestles-luxury-kitkat-17\"><picture class=\"m\"><source data-srcset=\"//a57.foxnews.com/hp.foxnews.com/images/2019/09/304/456/1ea731726879d676c11e6b7a748d7a51.jpg\" media=\"(max-width: 1023px)\"/><source data-srcset=\"//a57.foxnews.com/hp.foxnews.com/images/2019/09/152/228/1ea731726879d676c11e6b7a748d7a51.jpg\" media=\"(min-width: 1024px)\"/><img alt=\"SEE IT: KitKat releasing $17 candy bar\" data-src=\"//a57.foxnews.com/hp.foxnews.com/images/2019/09/304/456/1ea731726879d676c11e6b7a748d7a51.jpg\" src=\"//global.fncstatic.com/static/orion/img/clear.gif\"/></picture><div class=\"title\"><span>SEE IT: KitKat releasing $17 candy bar</span></div></a></article>, <article class=\"article-ct\"><a href=\"https://www.foxnews.com/lifestyle/americas-cats-are-overweight-or-obese-study-finds\"><picture class=\"m\"><source data-srcset=\"//a57.foxnews.com/hp.foxnews.com/images/2019/09/304/456/8e6d7348958ca659a9544eafa2f55d62.jpg\" media=\"(max-width: 1023px)\"/><source data-srcset=\"//a57.foxnews.com/hp.foxnews.com/images/2019/09/152/228/8e6d7348958ca659a9544eafa2f55d62.jpg\" media=\"(min-width: 1024px)\"/><img alt=\"Study finds troubling news about cats\" data-src=\"//a57.foxnews.com/hp.foxnews.com/images/2019/09/304/456/8e6d7348958ca659a9544eafa2f55d62.jpg\" src=\"//global.fncstatic.com/static/orion/img/clear.gif\"/></picture><div class=\"title\"><span>Study finds troubling news about cats</span></div></a></article>, <article class=\"article-ct\"><a href=\"https://www.foxnews.com/entertainment/olivia-newton-john-cancer-third-time\"><picture class=\"m\"><source data-srcset=\"//a57.foxnews.com/hp.foxnews.com/images/2019/09/304/456/04842cf0d78d73e8bd06d5e47f94ed0a.jpg\" media=\"(max-width: 1023px)\"/><source data-srcset=\"//a57.foxnews.com/hp.foxnews.com/images/2019/09/152/228/04842cf0d78d73e8bd06d5e47f94ed0a.jpg\" media=\"(min-width: 1024px)\"/><img alt=\"Star has 'much to live for'\" data-src=\"//a57.foxnews.com/hp.foxnews.com/images/2019/09/304/456/04842cf0d78d73e8bd06d5e47f94ed0a.jpg\" src=\"//global.fncstatic.com/static/orion/img/clear.gif\"/></picture><div class=\"title\"><span>\n",
      "Star has 'much to live for'</span></div></a></article>, <article class=\"article-ct\"><a href=\"https://www.foxnews.com/entertainment/prince-harry-princess-diana-angola\"><picture class=\"m\"><source data-srcset=\"//a57.foxnews.com/hp.foxnews.com/images/2019/09/304/456/4a60a2c85fd27a4c856bfb32514436f9.jpg\" media=\"(max-width: 1023px)\"/><source data-srcset=\"//a57.foxnews.com/hp.foxnews.com/images/2019/09/152/228/4a60a2c85fd27a4c856bfb32514436f9.jpg\" media=\"(min-width: 1024px)\"/><img alt=\"Prince Harry honors late mom\" data-src=\"//a57.foxnews.com/hp.foxnews.com/images/2019/09/304/456/4a60a2c85fd27a4c856bfb32514436f9.jpg\" src=\"//global.fncstatic.com/static/orion/img/clear.gif\"/></picture><div class=\"title\"><span>Prince Harry honors late mom</span></div></a></article>, <article class=\"article-ct\"><a href=\"https://www.foxnews.com/entertainment/jessica-simpson-100-pound-weight-loss-secrets\"><picture class=\"m\"><source data-srcset=\"//a57.foxnews.com/hp.foxnews.com/images/2019/09/304/456/a1aaf7427440a3fc562724d58aecebf1.jpg\" media=\"(max-width: 1023px)\"/><source data-srcset=\"//a57.foxnews.com/hp.foxnews.com/images/2019/09/152/228/a1aaf7427440a3fc562724d58aecebf1.jpg\" media=\"(min-width: 1024px)\"/><img alt=\"How Jess went from this, to THIS\" data-src=\"//a57.foxnews.com/hp.foxnews.com/images/2019/09/304/456/a1aaf7427440a3fc562724d58aecebf1.jpg\" src=\"//global.fncstatic.com/static/orion/img/clear.gif\"/></picture><div class=\"title\"><span>How Jess went from this, to THIS</span></div></a></article>, <article class=\"article-ct\"><a href=\"https://www.foxnews.com/entertainment/demi-moore-weight-gain-movie-role\"><picture class=\"m\"><source data-srcset=\"//a57.foxnews.com/hp.foxnews.com/images/2019/09/304/456/9c19ab9ac2097c356c634565da897c3f.jpg\" media=\"(max-width: 1023px)\"/><source data-srcset=\"//a57.foxnews.com/hp.foxnews.com/images/2019/09/152/228/9c19ab9ac2097c356c634565da897c3f.jpg\" media=\"(min-width: 1024px)\"/><img alt=\"Moore spills sex scene secret\" data-src=\"//a57.foxnews.com/hp.foxnews.com/images/2019/09/304/456/9c19ab9ac2097c356c634565da897c3f.jpg\" src=\"//global.fncstatic.com/static/orion/img/clear.gif\"/></picture><div class=\"title\"><span>Moore spills sex scene secret</span></div></a></article>, <article class=\"article-ct\"><a href=\"https://www.foxnews.com/auto/bollinger-motors-electric-suv-pickup\"><picture class=\"m\"><source data-srcset=\"//a57.foxnews.com/hp.foxnews.com/images/2019/09/304/456/2b92f802e6775cc97619328318e19bdd.jpg\" media=\"(max-width: 1023px)\"/><source data-srcset=\"//a57.foxnews.com/hp.foxnews.com/images/2019/09/152/228/2b92f802e6775cc97619328318e19bdd.jpg\" media=\"(min-width: 1024px)\"/><img alt=\"Retro-electric truck revealed\" data-src=\"//a57.foxnews.com/hp.foxnews.com/images/2019/09/304/456/2b92f802e6775cc97619328318e19bdd.jpg\" src=\"//global.fncstatic.com/static/orion/img/clear.gif\"/></picture><div class=\"title\"><span>Retro-electric truck revealed</span></div></a></article>, <article class=\"article-ct\"><a href=\"https://www.foxnews.com/science/crypt-keeper-wasp-control-minds-victims\"><picture class=\"m\"><source data-srcset=\"//a57.foxnews.com/hp.foxnews.com/images/2019/09/304/456/bb3e911b574f4c6cabb01a81db7db486.jpg\" media=\"(max-width: 1023px)\"/><source data-srcset=\"//a57.foxnews.com/hp.foxnews.com/images/2019/09/152/228/bb3e911b574f4c6cabb01a81db7db486.jpg\" media=\"(min-width: 1024px)\"/><img alt=\"Creepy 'mind-control' wasp discovered\" data-src=\"//a57.foxnews.com/hp.foxnews.com/images/2019/09/304/456/bb3e911b574f4c6cabb01a81db7db486.jpg\" src=\"//global.fncstatic.com/static/orion/img/clear.gif\"/></picture><div class=\"title\"><span>Creepy 'mind-control' wasp discovered</span></div></a></article>, <article class=\"article-ct\"><a href=\"https://www.foxnews.com/science/inca-child-sacrifice-victims-came-from-all-over-the-empire-scientists-say\"><picture class=\"m\"><source data-srcset=\"//a57.foxnews.com/hp.foxnews.com/images/2019/09/304/456/3916647abc77b8312c6820d793307fc0.jpg\" media=\"(max-width: 1023px)\"/><source data-srcset=\"//a57.foxnews.com/hp.foxnews.com/images/2019/09/152/228/3916647abc77b8312c6820d793307fc0.jpg\" media=\"(min-width: 1024px)\"/><img alt=\"Inca child sacrifice SHOCKER\" data-src=\"//a57.foxnews.com/hp.foxnews.com/images/2019/09/304/456/3916647abc77b8312c6820d793307fc0.jpg\" src=\"//global.fncstatic.com/static/orion/img/clear.gif\"/></picture><div class=\"title\"><span>Inca child sacrifice SHOCKER</span></div></a></article>, <article class=\"article-ct\"><a href=\"https://www.foxnews.com/science/hidden-world-of-undersea-volcanoes-and-lava-flows-discovered-off-italian-coast\"><picture class=\"m\"><source data-srcset=\"//a57.foxnews.com/hp.foxnews.com/images/2019/09/304/456/8d8594cb28bdc93a9f23745e139475bb.jpg\" media=\"(max-width: 1023px)\"/><source data-srcset=\"//a57.foxnews.com/hp.foxnews.com/images/2019/09/152/228/8d8594cb28bdc93a9f23745e139475bb.jpg\" media=\"(min-width: 1024px)\"/>\n",
      "<img alt=\"Hidden world of undersea volcanoes found\" data-src=\"//a57.foxnews.com/hp.foxnews.com/images/2019/09/304/456/8d8594cb28bdc93a9f23745e139475bb.jpg\" src=\"//global.fncstatic.com/static/orion/img/clear.gif\"/></picture><div class=\"title\"><span>Hidden world of undersea volcanoes found</span></div></a></article>, <article class=\"article-ct\"><a href=\"https://www.foxnews.com/entertainment/jennifer-lopezs-hustlers-pole-dancing-ramona-barbash\"><picture class=\"m\"><source data-srcset=\"//a57.foxnews.com/hp.foxnews.com/images/2019/09/304/456/66c3b35c523d0f134172c5e11253e5a3.jpg\" media=\"(max-width: 1023px)\"/><source data-srcset=\"//a57.foxnews.com/hp.foxnews.com/images/2019/09/152/228/66c3b35c523d0f134172c5e11253e5a3.jpg\" media=\"(min-width: 1024px)\"/><img alt=\"Real 'Hustlers' stripper speaks out\" data-src=\"//a57.foxnews.com/hp.foxnews.com/images/2019/09/304/456/66c3b35c523d0f134172c5e11253e5a3.jpg\" src=\"//global.fncstatic.com/static/orion/img/clear.gif\"/></picture><div class=\"title\">\n",
      "<span>Real 'Hustlers' stripper speaks out</span></div></a></article>, <article class=\"article-ct\"><a href=\"https://www.foxnews.com/entertainment/celine-dion-body-shamers-hits-back\"><picture class=\"m\"><source data-srcset=\"//a57.foxnews.com/hp.foxnews.com/images/2019/09/304/456/091fdebc0e56e94c5a267256d1172196.jpg\" media=\"(max-width: 1023px)\"/><source data-srcset=\"//a57.foxnews.com/hp.foxnews.com/images/2019/09/152/228/091fdebc0e56e94c5a267256d1172196.jpg\" media=\"(min-width: 1024px)\"/><img alt=\"Celine Dion gets heated with critics\" data-src=\"//a57.foxnews.com/hp.foxnews.com/images/2019/09/304/456/091fdebc0e56e94c5a267256d1172196.jpg\" src=\"//global.fncstatic.com/static/orion/img/clear.gif\"/></picture><div class=\"title\"><span>Celine Dion gets heated with critics</span></div></a></article>, <article class=\"article-ct\"><a href=\"https://www.foxnews.com/entertainment/brooke-shields-says-she-lost-view-co-hosting-gig-to-jenny-mccarthy\"><picture class=\"m\"><source data-srcset=\"//a57.foxnews.com/hp.foxnews.com/images/2019/09/304/456/fb8114f2353081b1013b81ea8abff7c5.jpg\" media=\"(max-width: 1023px)\"/><source data-srcset=\"//a57.foxnews.com/hp.foxnews.com/images/2019/09/152/228/fb8114f2353081b1013b81ea8abff7c5.jpg\" media=\"(min-width: 1024px)\"/><img alt=\"Shields lost to McCarthy\" data-src=\"//a57.foxnews.com/hp.foxnews.com/images/2019/09/304/456/fb8114f2353081b1013b81ea8abff7c5.jpg\" src=\"//global.fncstatic.com/static/orion/img/clear.gif\"/></picture><div class=\"title\"><span>Shields lost to McCarthy</span></div></a></article>, <article class=\"article-ct\"><a href=\"https://www.foxnews.com/entertainment/disney-bella-thorne-porn-hub-award\"><picture class=\"m\"><source data-srcset=\"//a57.foxnews.com/hp.foxnews.com/images/2019/09/304/456/7007408ce339d39b1384b67a5eb31688.jpg\" media=\"(max-width: 1023px)\"/><source data-srcset=\"//a57.foxnews.com/hp.foxnews.com/images/2019/09/152/228/7007408ce339d39b1384b67a5eb31688.jpg\" media=\"(min-width: 1024px)\"/><img alt=\"Star getting award for porn\" data-src=\"//a57.foxnews.com/hp.foxnews.com/images/2019/09/304/456/7007408ce339d39b1384b67a5eb31688.jpg\" src=\"//global.fncstatic.com/static/orion/img/clear.gif\"/></picture><div class=\"title\"><span>Star getting award for porn</span></div></a></article>, <article class=\"article-ct\"><a href=\"https://www.foxnews.com/lifestyle/get-the-look-hair-nicole-kidman\"><picture class=\"m\"><source data-srcset=\"//a57.foxnews.com/hp.foxnews.com/images/2019/09/304/456/4516010d3f8a152af2d3c0b650823f8d.jpg\" media=\"(max-width: 1023px)\"/><source data-srcset=\"//a57.foxnews.com/hp.foxnews.com/images/2019/09/152/228/4516010d3f8a152af2d3c0b650823f8d.jpg\" media=\"(min-width: 1024px)\"/><img alt=\"Kidman's big secret\" data-src=\"//a57.foxnews.com/hp.foxnews.com/images/2019/09/304/456/4516010d3f8a152af2d3c0b650823f8d.jpg\" src=\"//global.fncstatic.com/static/orion/img/clear.gif\"/></picture><div class=\"title\"><span>Kidman's big secret</span></div></a></article>, <article class=\"article-ct\"><a href=\"https://www.foxnews.com/entertainment/christie-brinkley-national-lampoons-vacation-the-goldbergs\"><picture class=\"m\"><source data-srcset=\"//a57.foxnews.com/hp.foxnews.com/images/2019/09/304/456/8337e8c2a67c888482a205a620592aa2.jpg\" media=\"(max-width: 1023px)\"/><source data-srcset=\"//a57.foxnews.com/hp.foxnews.com/images/2019/09/152/228/8337e8c2a67c888482a205a620592aa2.jpg\" media=\"(min-width: 1024px)\"/><img alt=\"Brinkley recreates 'Lampoon' role\" data-src=\"//a57.foxnews.com/hp.foxnews.com/images/2019/09/304/456/8337e8c2a67c888482a205a620592aa2.jpg\" src=\"//global.fncstatic.com/static/orion/img/clear.gif\"/></picture><div class=\"title\"><span>Brinkley recreates 'Lampoon' role</span></div></a></article>]\n"
     ]
    }
   ],
   "source": [
    "articles = features_faces.find_all('article', {'class': 'article-ct'})\n",
    "print(articles)"
   ]
  },
  {
   "cell_type": "code",
   "execution_count": 34,
   "metadata": {
    "scrolled": false
   },
   "outputs": [
    {
     "name": "stdout",
     "output_type": "stream",
     "text": [
      "SEE IT: KitKat releasing $17 candy bar\n",
      "https://www.foxnews.com/food-drink/nestles-luxury-kitkat-17\n",
      "//global.fncstatic.com/static/orion/img/clear.gif\n",
      "Study finds troubling news about cats\n",
      "https://www.foxnews.com/lifestyle/americas-cats-are-overweight-or-obese-study-finds\n",
      "//global.fncstatic.com/static/orion/img/clear.gif\n",
      "\n",
      "Star has 'much to live for'\n",
      "https://www.foxnews.com/entertainment/olivia-newton-john-cancer-third-time\n",
      "//global.fncstatic.com/static/orion/img/clear.gif\n",
      "Prince Harry honors late mom\n",
      "https://www.foxnews.com/entertainment/prince-harry-princess-diana-angola\n",
      "//global.fncstatic.com/static/orion/img/clear.gif\n",
      "How Jess went from this, to THIS\n",
      "https://www.foxnews.com/entertainment/jessica-simpson-100-pound-weight-loss-secrets\n",
      "//global.fncstatic.com/static/orion/img/clear.gif\n",
      "Moore spills sex scene secret\n",
      "https://www.foxnews.com/entertainment/demi-moore-weight-gain-movie-role\n",
      "//global.fncstatic.com/static/orion/img/clear.gif\n",
      "Retro-electric truck revealed\n",
      "https://www.foxnews.com/auto/bollinger-motors-electric-suv-pickup\n",
      "//global.fncstatic.com/static/orion/img/clear.gif\n",
      "Creepy 'mind-control' wasp discovered\n",
      "https://www.foxnews.com/science/crypt-keeper-wasp-control-minds-victims\n",
      "//global.fncstatic.com/static/orion/img/clear.gif\n",
      "Inca child sacrifice SHOCKER\n",
      "https://www.foxnews.com/science/inca-child-sacrifice-victims-came-from-all-over-the-empire-scientists-say\n",
      "//global.fncstatic.com/static/orion/img/clear.gif\n",
      "Hidden world of undersea volcanoes found\n",
      "https://www.foxnews.com/science/hidden-world-of-undersea-volcanoes-and-lava-flows-discovered-off-italian-coast\n",
      "//global.fncstatic.com/static/orion/img/clear.gif\n",
      "\n",
      "Real 'Hustlers' stripper speaks out\n",
      "https://www.foxnews.com/entertainment/jennifer-lopezs-hustlers-pole-dancing-ramona-barbash\n",
      "//global.fncstatic.com/static/orion/img/clear.gif\n",
      "Celine Dion gets heated with critics\n",
      "https://www.foxnews.com/entertainment/celine-dion-body-shamers-hits-back\n",
      "//global.fncstatic.com/static/orion/img/clear.gif\n",
      "Shields lost to McCarthy\n",
      "https://www.foxnews.com/entertainment/brooke-shields-says-she-lost-view-co-hosting-gig-to-jenny-mccarthy\n",
      "//global.fncstatic.com/static/orion/img/clear.gif\n",
      "Star getting award for porn\n",
      "https://www.foxnews.com/entertainment/disney-bella-thorne-porn-hub-award\n",
      "//global.fncstatic.com/static/orion/img/clear.gif\n",
      "Kidman's big secret\n",
      "https://www.foxnews.com/lifestyle/get-the-look-hair-nicole-kidman\n",
      "//global.fncstatic.com/static/orion/img/clear.gif\n",
      "Brinkley recreates 'Lampoon' role\n",
      "https://www.foxnews.com/entertainment/christie-brinkley-national-lampoons-vacation-the-goldbergs\n",
      "//global.fncstatic.com/static/orion/img/clear.gif\n"
     ]
    }
   ],
   "source": [
    "for index, article in enumerate(articles):\n",
    "    title = article.find('div', {'class': 'title'}).text\n",
    "    print(title)\n",
    "    href = article.find('a')\n",
    "    print(href.attrs['href'])\n",
    "    img = article.find('img')\n",
    "    print(img.attrs['src'])"
   ]
  },
  {
   "cell_type": "code",
   "execution_count": null,
   "metadata": {},
   "outputs": [],
   "source": []
  }
 ],
 "metadata": {
  "kernelspec": {
   "display_name": "Python 3",
   "language": "python",
   "name": "python3"
  },
  "language_info": {
   "codemirror_mode": {
    "name": "ipython",
    "version": 3
   },
   "file_extension": ".py",
   "mimetype": "text/x-python",
   "name": "python",
   "nbconvert_exporter": "python",
   "pygments_lexer": "ipython3",
   "version": "3.7.4"
  }
 },
 "nbformat": 4,
 "nbformat_minor": 2
}
